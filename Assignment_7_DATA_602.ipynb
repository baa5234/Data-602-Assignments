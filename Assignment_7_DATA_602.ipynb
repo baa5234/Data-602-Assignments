{
  "nbformat": 4,
  "nbformat_minor": 0,
  "metadata": {
    "colab": {
      "provenance": [],
      "authorship_tag": "ABX9TyMJIgsq94AltVyiZSjgf/0F",
      "include_colab_link": true
    },
    "kernelspec": {
      "name": "python3",
      "display_name": "Python 3"
    },
    "language_info": {
      "name": "python"
    }
  },
  "cells": [
    {
      "cell_type": "markdown",
      "metadata": {
        "id": "view-in-github",
        "colab_type": "text"
      },
      "source": [
        "<a href=\"https://colab.research.google.com/github/baa5234/Data-602-Assignments/blob/main/Assignment_7_DATA_602.ipynb\" target=\"_parent\"><img src=\"https://colab.research.google.com/assets/colab-badge.svg\" alt=\"Open In Colab\"/></a>"
      ]
    },
    {
      "cell_type": "code",
      "execution_count": 61,
      "metadata": {
        "colab": {
          "base_uri": "https://localhost:8080/",
          "height": 143
        },
        "id": "Za4d7uGPnVRm",
        "outputId": "3f1770d1-7615-484b-87db-dff090a8d144"
      },
      "outputs": [
        {
          "output_type": "execute_result",
          "data": {
            "text/plain": [
              "'\\n\\nOverview:\\n#Housing sale prices refers to the monetary value at which a residential property is bought or sold in a given market. \\nThis price is influenced by various factors such as location, size and condition of the property,\\nlocal economic conditions, crime, amenities, and demand-supply dynamics. \\nHousing sale prices serves as a crucial indicator of the real estate market’s health and can impact homeowners, investors, and policymakers alike. \\nUnderstanding the determinants of housing sales price and analyzing its trends can provide valuable insights into the dynamics of the housing market,\\ninform investment decisions, and aid in policy formulation related to housing affordability, urban planning, and economic development.\\n\\nWe will be analyzing housing sales prices in the Bronx for the year 2023. Analyzing housing sales prices in Bronx, New York, \\nholds a particular significance due to its unique characteristics and position within the broader New York City real estate market. \\nAs one of the five boroughs of New York City, Bronx exhibits a diverse mix of residential properties ranging from \\nsingle-family homes to multifamily buildings and condominiums. Historically, Bronx has experienced fluctuations in its housing market, \\ninfluenced by factors such as urban renewal initiatives, demographic shifts, and economic development projects. \\nAnalyzing housing sales prices in the Bronx can provide insights into the affordability of housing, neighborhood dynamics, \\ngentrification trends, and the impact of urban revitalization efforts. \\nMoreover, understanding the housing market in Bronx can contribute to efforts aimed at promoting equitable development, \\naddressing housing disparities, and enhancing the overall quality of life for residents.\\n\\n'"
            ],
            "application/vnd.google.colaboratory.intrinsic+json": {
              "type": "string"
            }
          },
          "metadata": {},
          "execution_count": 61
        }
      ],
      "source": [
        "# Blessing Anoroh\n",
        "# DATA 602\n",
        "# Assignment 7\n",
        "#\n",
        "\n",
        "\n",
        "# Create a subset of your original data and perform the following.\n",
        "# Modify multiple column names.\n",
        "# Look at the structure of your data – are any variables improperly coded? Such as strings or characters? Convert to correct structure if needed.\n",
        "# Fix missing and invalid values in data.\n",
        "# Create new columns based on existing columns or calculations.\n",
        "# Drop column(s) from your dataset.\n",
        "# Drop a row(s) from your dataset.\n",
        "# Sort your data based on multiple variables.\n",
        "# Filter your data based on some condition.\n",
        "# Convert all the string values to upper or lower cases in one column.\n",
        "# Check whether numeric values are present in a given column of your dataframe.\n",
        "# Group your dataset by one column, and get the mean, min, and max values by group.\n",
        "# Groupby()\n",
        "# agg() or .apply()\n",
        "# Group your dataset by two columns and then sort the aggregated results within the groups.\n",
        "\n",
        "\n",
        "'''\n",
        "\n",
        "Overview:\n",
        "#Housing sale prices refers to the monetary value at which a residential property is bought or sold in a given market.\n",
        "This price is influenced by various factors such as location, size and condition of the property,\n",
        "local economic conditions, crime, amenities, and demand-supply dynamics.\n",
        "Housing sale prices serves as a crucial indicator of the real estate market’s health and can impact homeowners, investors, and policymakers alike.\n",
        "Understanding the determinants of housing sales price and analyzing its trends can provide valuable insights into the dynamics of the housing market,\n",
        "inform investment decisions, and aid in policy formulation related to housing affordability, urban planning, and economic development.\n",
        "\n",
        "We will be analyzing housing sales prices in the Bronx for the year 2023. Analyzing housing sales prices in Bronx, New York,\n",
        "holds a particular significance due to its unique characteristics and position within the broader New York City real estate market.\n",
        "As one of the five boroughs of New York City, Bronx exhibits a diverse mix of residential properties ranging from\n",
        "single-family homes to multifamily buildings and condominiums. Historically, Bronx has experienced fluctuations in its housing market,\n",
        "influenced by factors such as urban renewal initiatives, demographic shifts, and economic development projects.\n",
        "Analyzing housing sales prices in the Bronx can provide insights into the affordability of housing, neighborhood dynamics,\n",
        "gentrification trends, and the impact of urban revitalization efforts.\n",
        "Moreover, understanding the housing market in Bronx can contribute to efforts aimed at promoting equitable development,\n",
        "addressing housing disparities, and enhancing the overall quality of life for residents.\n",
        "\n",
        "'''"
      ]
    },
    {
      "cell_type": "code",
      "source": [
        "import pandas as pd\n",
        "import numpy as np\n",
        "\n",
        "# Import the data\n",
        "url = \"https://raw.githubusercontent.com/baa5234/FinalProject/main/2023_bronx%20(1).csv\"\n",
        "bronx_p_2023 = pd.read_csv(url)\n",
        "\n",
        "print(bronx_p_2023.columns)\n",
        "\n"
      ],
      "metadata": {
        "colab": {
          "base_uri": "https://localhost:8080/"
        },
        "id": "2sBID868vVmO",
        "outputId": "f858c2b7-f467-4ce0-8c6c-b1cfdf17c42f"
      },
      "execution_count": 62,
      "outputs": [
        {
          "output_type": "stream",
          "name": "stdout",
          "text": [
            "Index(['BOROUGH', 'NEIGHBORHOOD', 'BUILDING CLASS CATEGORY',\n",
            "       'TAX CLASS AT PRESENT', 'BLOCK', 'LOT', 'EASE-MENT',\n",
            "       'BUILDING CLASS AT PRESENT', 'ADDRESS', 'APARTMENT NUMBER', 'ZIP CODE',\n",
            "       'RESIDENTIAL\\nUNITS', 'COMMERCIAL\\nUNITS', 'TOTAL \\nUNITS',\n",
            "       'LAND \\nSQUARE FEET', 'GROSS \\nSQUARE FEET', 'YEAR BUILT',\n",
            "       'TAX CLASS AT TIME OF SALE', 'BUILDING CLASS\\nAT TIME OF SALE',\n",
            "       'SALE PRICE', 'SALE DATE'],\n",
            "      dtype='object')\n"
          ]
        }
      ]
    },
    {
      "cell_type": "code",
      "source": [
        "\n",
        "# Dropping the specified columns\n",
        "columns_to_drop = [\n",
        "    'BOROUGH',\n",
        "    'TAX CLASS AT PRESENT',\n",
        "    'BLOCK',\n",
        "    'LOT',\n",
        "    'EASE-MENT',\n",
        "    'BUILDING CLASS AT PRESENT',\n",
        "    'ADDRESS',\n",
        "    'APARTMENT NUMBER',\n",
        "    'ZIP CODE',\n",
        "    'RESIDENTIAL\\nUNITS',\n",
        "    'COMMERCIAL\\nUNITS',\n",
        "    'TOTAL \\nUNITS',\n",
        "    'LAND \\nSQUARE FEET',\n",
        "    'TAX CLASS AT TIME OF SALE',\n",
        "    'BUILDING CLASS\\nAT TIME OF SALE'\n",
        "\n",
        "]\n",
        "\n",
        "# Dropping the specified columns\n",
        "bronx_props_cleaned = bronx_p_2023.drop(columns=[col for col in columns_to_drop if col in bronx_p_2023.columns], errors='ignore')\n",
        "\n",
        "# Displaying the head of the cleaned DataFrame\n",
        "print(bronx_props_cleaned.head())\n",
        "\n"
      ],
      "metadata": {
        "colab": {
          "base_uri": "https://localhost:8080/"
        },
        "id": "Yy9vHYmR9RV6",
        "outputId": "c2e5a9ad-7d94-49ed-e7a7-cecdae7c4616"
      },
      "execution_count": 63,
      "outputs": [
        {
          "output_type": "stream",
          "name": "stdout",
          "text": [
            "  NEIGHBORHOOD  BUILDING CLASS CATEGORY GROSS \\nSQUARE FEET  YEAR BUILT  \\\n",
            "0     BATHGATE  01 ONE FAMILY DWELLINGS               1,497      1899.0   \n",
            "1     BATHGATE  01 ONE FAMILY DWELLINGS               1,497      1899.0   \n",
            "2     BATHGATE  01 ONE FAMILY DWELLINGS               1,548      1899.0   \n",
            "3     BATHGATE  01 ONE FAMILY DWELLINGS               4,080      1931.0   \n",
            "4     BATHGATE  02 TWO FAMILY DWELLINGS               1,428      1901.0   \n",
            "\n",
            "  SALE PRICE SALE DATE  \n",
            "0    215,000   4/18/23  \n",
            "1    570,000   8/23/23  \n",
            "2          0   4/14/23  \n",
            "3          0  10/24/23  \n",
            "4    350,000   6/26/23  \n"
          ]
        }
      ]
    },
    {
      "cell_type": "code",
      "source": [
        "#Renaming columns\n",
        "bronx_property_renamed = bronx_props_cleaned.rename(columns={\n",
        "    'NEIGHBORHOOD': 'Neighborhood',\n",
        "    'BUILDING CLASS CATEGORY' : 'Building Class',\n",
        "    'ZIP CODE': 'Zip Code',\n",
        "    'SALE PRICE': 'Sale Price',\n",
        "    'SALE DATE': 'Sale Date',\n",
        "    'GROSS \\nSQUARE FEET': 'Gross Sq Feet',\n",
        "    'YEAR BUILT': 'Year Built'\n",
        "})\n",
        "\n",
        "print(bronx_property_renamed.head())\n"
      ],
      "metadata": {
        "colab": {
          "base_uri": "https://localhost:8080/"
        },
        "id": "noqXgVfyt9xZ",
        "outputId": "af940b68-3855-4449-d0f9-61d2537fa6e1"
      },
      "execution_count": 64,
      "outputs": [
        {
          "output_type": "stream",
          "name": "stdout",
          "text": [
            "  Neighborhood           Building Class Gross Sq Feet  Year Built Sale Price  \\\n",
            "0     BATHGATE  01 ONE FAMILY DWELLINGS         1,497      1899.0    215,000   \n",
            "1     BATHGATE  01 ONE FAMILY DWELLINGS         1,497      1899.0    570,000   \n",
            "2     BATHGATE  01 ONE FAMILY DWELLINGS         1,548      1899.0          0   \n",
            "3     BATHGATE  01 ONE FAMILY DWELLINGS         4,080      1931.0          0   \n",
            "4     BATHGATE  02 TWO FAMILY DWELLINGS         1,428      1901.0    350,000   \n",
            "\n",
            "  Sale Date  \n",
            "0   4/18/23  \n",
            "1   8/23/23  \n",
            "2   4/14/23  \n",
            "3  10/24/23  \n",
            "4   6/26/23  \n"
          ]
        }
      ]
    },
    {
      "cell_type": "code",
      "source": [
        "# Replacing 'DWELLINGS', '01', '02', and '03' in the 'Building Class' column to drop specified strings / variables from the column\n",
        "bronx_property_renamed['Building Class'] = bronx_property_renamed['Building Class'].str.replace(r'DWELLINGS|01|02|03', '', regex=True)\n",
        "\n",
        "\n",
        "\n",
        "# Print the head of the modified DataFrame\n",
        "print(bronx_property_renamed.head())\n"
      ],
      "metadata": {
        "colab": {
          "base_uri": "https://localhost:8080/"
        },
        "id": "EO1o8eFGuQH2",
        "outputId": "542564c2-0052-47f4-85cb-364b4e6a65a7"
      },
      "execution_count": 65,
      "outputs": [
        {
          "output_type": "stream",
          "name": "stdout",
          "text": [
            "  Neighborhood Building Class Gross Sq Feet  Year Built Sale Price Sale Date\n",
            "0     BATHGATE    ONE FAMILY          1,497      1899.0    215,000   4/18/23\n",
            "1     BATHGATE    ONE FAMILY          1,497      1899.0    570,000   8/23/23\n",
            "2     BATHGATE    ONE FAMILY          1,548      1899.0          0   4/14/23\n",
            "3     BATHGATE    ONE FAMILY          4,080      1931.0          0  10/24/23\n",
            "4     BATHGATE    TWO FAMILY          1,428      1901.0    350,000   6/26/23\n"
          ]
        }
      ]
    },
    {
      "cell_type": "code",
      "source": [
        "# Remove rows with any missing values\n",
        "bronx_props_df = bronx_property_renamed.dropna()\n",
        "\n",
        "\n",
        "# Print the head of the cleaned DataFrame\n",
        "print(bronx_props_df.head())\n"
      ],
      "metadata": {
        "colab": {
          "base_uri": "https://localhost:8080/"
        },
        "id": "DtKWc_HluQSA",
        "outputId": "1eb2d352-da53-4610-c426-7ff53b224e1b"
      },
      "execution_count": 66,
      "outputs": [
        {
          "output_type": "stream",
          "name": "stdout",
          "text": [
            "  Neighborhood Building Class Gross Sq Feet  Year Built Sale Price Sale Date\n",
            "0     BATHGATE    ONE FAMILY          1,497      1899.0    215,000   4/18/23\n",
            "1     BATHGATE    ONE FAMILY          1,497      1899.0    570,000   8/23/23\n",
            "2     BATHGATE    ONE FAMILY          1,548      1899.0          0   4/14/23\n",
            "3     BATHGATE    ONE FAMILY          4,080      1931.0          0  10/24/23\n",
            "4     BATHGATE    TWO FAMILY          1,428      1901.0    350,000   6/26/23\n"
          ]
        }
      ]
    },
    {
      "cell_type": "code",
      "source": [
        "\n",
        "# Remove commas from the \"Sale Price\" column\n",
        "bronx_props_df['Sale Price'] = bronx_props_df['Sale Price'].str.replace(',', '', regex=True)\n",
        "\n",
        "# Print new DataFrame\n",
        "print(bronx_props_df.head())"
      ],
      "metadata": {
        "colab": {
          "base_uri": "https://localhost:8080/"
        },
        "id": "Ulboyw1duQcb",
        "outputId": "0a84f832-3edb-494e-9bc7-c57d1d73c085"
      },
      "execution_count": 67,
      "outputs": [
        {
          "output_type": "stream",
          "name": "stdout",
          "text": [
            "  Neighborhood Building Class Gross Sq Feet  Year Built Sale Price Sale Date\n",
            "0     BATHGATE    ONE FAMILY          1,497      1899.0     215000   4/18/23\n",
            "1     BATHGATE    ONE FAMILY          1,497      1899.0     570000   8/23/23\n",
            "2     BATHGATE    ONE FAMILY          1,548      1899.0          0   4/14/23\n",
            "3     BATHGATE    ONE FAMILY          4,080      1931.0          0  10/24/23\n",
            "4     BATHGATE    TWO FAMILY          1,428      1901.0     350000   6/26/23\n"
          ]
        },
        {
          "output_type": "stream",
          "name": "stderr",
          "text": [
            "<ipython-input-67-681021d347f3>:2: SettingWithCopyWarning: \n",
            "A value is trying to be set on a copy of a slice from a DataFrame.\n",
            "Try using .loc[row_indexer,col_indexer] = value instead\n",
            "\n",
            "See the caveats in the documentation: https://pandas.pydata.org/pandas-docs/stable/user_guide/indexing.html#returning-a-view-versus-a-copy\n",
            "  bronx_props_df['Sale Price'] = bronx_props_df['Sale Price'].str.replace(',', '', regex=True)\n"
          ]
        }
      ]
    },
    {
      "cell_type": "code",
      "source": [
        "# Convert the \"Sale Price\" column to numeric\n",
        "bronx_props_df['Sale Price'] = pd.to_numeric(bronx_props_df['Sale Price'], errors='coerce')\n",
        "\n",
        "# Format the \"Sale Date\" column into month and date\n",
        "bronx_props_df['Sale Date'] = pd.to_datetime(bronx_props_df['Sale Date'], format='%m/%d/%y').dt.strftime('%m/%Y')\n",
        "\n",
        "# View the updated DataFrame\n",
        "print(bronx_props_df.head())"
      ],
      "metadata": {
        "colab": {
          "base_uri": "https://localhost:8080/"
        },
        "id": "vav_vOSKuQku",
        "outputId": "cced45f1-f4d9-400c-a9bf-82664d30874e"
      },
      "execution_count": 68,
      "outputs": [
        {
          "output_type": "stream",
          "name": "stdout",
          "text": [
            "  Neighborhood Building Class Gross Sq Feet  Year Built  Sale Price Sale Date\n",
            "0     BATHGATE    ONE FAMILY          1,497      1899.0      215000   04/2023\n",
            "1     BATHGATE    ONE FAMILY          1,497      1899.0      570000   08/2023\n",
            "2     BATHGATE    ONE FAMILY          1,548      1899.0           0   04/2023\n",
            "3     BATHGATE    ONE FAMILY          4,080      1931.0           0   10/2023\n",
            "4     BATHGATE    TWO FAMILY          1,428      1901.0      350000   06/2023\n"
          ]
        },
        {
          "output_type": "stream",
          "name": "stderr",
          "text": [
            "<ipython-input-68-59f870ab963c>:2: SettingWithCopyWarning: \n",
            "A value is trying to be set on a copy of a slice from a DataFrame.\n",
            "Try using .loc[row_indexer,col_indexer] = value instead\n",
            "\n",
            "See the caveats in the documentation: https://pandas.pydata.org/pandas-docs/stable/user_guide/indexing.html#returning-a-view-versus-a-copy\n",
            "  bronx_props_df['Sale Price'] = pd.to_numeric(bronx_props_df['Sale Price'], errors='coerce')\n",
            "<ipython-input-68-59f870ab963c>:5: SettingWithCopyWarning: \n",
            "A value is trying to be set on a copy of a slice from a DataFrame.\n",
            "Try using .loc[row_indexer,col_indexer] = value instead\n",
            "\n",
            "See the caveats in the documentation: https://pandas.pydata.org/pandas-docs/stable/user_guide/indexing.html#returning-a-view-versus-a-copy\n",
            "  bronx_props_df['Sale Date'] = pd.to_datetime(bronx_props_df['Sale Date'], format='%m/%d/%y').dt.strftime('%m/%Y')\n"
          ]
        }
      ]
    },
    {
      "cell_type": "code",
      "source": [
        "#Removing 0s and 10s from the dataset . Dropping rows with 0s and 10s.\n",
        "\n",
        "bronx_props_2023 = bronx_props_df[~bronx_props_df.isin([0, 10]).any(axis=1)]\n",
        "\n",
        "print(bronx_props_2023.head())"
      ],
      "metadata": {
        "colab": {
          "base_uri": "https://localhost:8080/"
        },
        "id": "4dfpJosUuj-p",
        "outputId": "ea16d0f2-4212-4127-f99e-2fe55feab6b9"
      },
      "execution_count": 69,
      "outputs": [
        {
          "output_type": "stream",
          "name": "stdout",
          "text": [
            "  Neighborhood Building Class Gross Sq Feet  Year Built  Sale Price Sale Date\n",
            "0     BATHGATE    ONE FAMILY          1,497      1899.0      215000   04/2023\n",
            "1     BATHGATE    ONE FAMILY          1,497      1899.0      570000   08/2023\n",
            "4     BATHGATE    TWO FAMILY          1,428      1901.0      350000   06/2023\n",
            "5     BATHGATE    TWO FAMILY          1,428      1901.0      310000   08/2023\n",
            "6     BATHGATE    TWO FAMILY          2,400      1993.0      763000   09/2023\n"
          ]
        }
      ]
    },
    {
      "cell_type": "code",
      "source": [
        "# Converting the \"Building Class\" column to lowercase\n",
        "bronx_props_2023['Building Class'] = bronx_props_2023['Building Class'].str.lower()\n",
        "\n",
        "# Print the updated DataFrame to check the changes\n",
        "print(bronx_props_2023.head())\n"
      ],
      "metadata": {
        "colab": {
          "base_uri": "https://localhost:8080/"
        },
        "id": "B226XoBRQRd0",
        "outputId": "5f8316a1-b8b9-4efa-9c1c-303cae78aa1a"
      },
      "execution_count": 70,
      "outputs": [
        {
          "output_type": "stream",
          "name": "stdout",
          "text": [
            "  Neighborhood Building Class Gross Sq Feet  Year Built  Sale Price Sale Date\n",
            "0     BATHGATE    one family          1,497      1899.0      215000   04/2023\n",
            "1     BATHGATE    one family          1,497      1899.0      570000   08/2023\n",
            "4     BATHGATE    two family          1,428      1901.0      350000   06/2023\n",
            "5     BATHGATE    two family          1,428      1901.0      310000   08/2023\n",
            "6     BATHGATE    two family          2,400      1993.0      763000   09/2023\n"
          ]
        },
        {
          "output_type": "stream",
          "name": "stderr",
          "text": [
            "<ipython-input-70-4144b9bce38c>:2: SettingWithCopyWarning: \n",
            "A value is trying to be set on a copy of a slice from a DataFrame.\n",
            "Try using .loc[row_indexer,col_indexer] = value instead\n",
            "\n",
            "See the caveats in the documentation: https://pandas.pydata.org/pandas-docs/stable/user_guide/indexing.html#returning-a-view-versus-a-copy\n",
            "  bronx_props_2023['Building Class'] = bronx_props_2023['Building Class'].str.lower()\n"
          ]
        }
      ]
    },
    {
      "cell_type": "code",
      "source": [
        "\n",
        "# Sort by NEIGHBORHOOD (ascending), SALE.PRICE (descending)\n",
        "\n",
        "bronx_props_2023  = bronx_props_2023 .sort_values(by=['Neighborhood', 'Sale Price'],\n",
        "                                 ascending=[True, False])\n",
        "\n",
        "# Print the sorted DataFrame\n",
        "print(bronx_props_2023.head())"
      ],
      "metadata": {
        "colab": {
          "base_uri": "https://localhost:8080/"
        },
        "id": "W54R88b_VjTN",
        "outputId": "bcb54bd8-c48f-4d5a-9edd-81fafa852bcf"
      },
      "execution_count": 71,
      "outputs": [
        {
          "output_type": "stream",
          "name": "stdout",
          "text": [
            "   Neighborhood                  Building Class Gross Sq Feet  Year Built  \\\n",
            "38     BATHGATE           29 commercial garages        16,380      1931.0   \n",
            "28     BATHGATE  07 rentals - walkup apartments        16,377      2021.0   \n",
            "51     BATHGATE                   30 warehouses         9,800      1989.0   \n",
            "32     BATHGATE              22 store buildings         2,680      1924.0   \n",
            "47     BATHGATE                   30 warehouses         3,320      1955.0   \n",
            "\n",
            "    Sale Price Sale Date  \n",
            "38     4300000   09/2023  \n",
            "28     2194364   02/2023  \n",
            "51     2100000   05/2023  \n",
            "32     2050000   12/2023  \n",
            "47      985000   06/2023  \n"
          ]
        }
      ]
    },
    {
      "cell_type": "code",
      "source": [
        "# Filter for One Family Homes\n",
        "one_family_df = bronx_props_2023[bronx_props_2023['Building Class'].str.contains('One Family', case=False, na=False)]\n",
        "\n",
        "# View the filtered DataFrame\n",
        "print(one_family_df)\n",
        "\n",
        "# Stats for One Family (building class)\n",
        "\n",
        "one_fam_stats = one_family_df.groupby('Neighborhood')['Sale Price'].agg(['mean', 'min', 'max']).reset_index()\n",
        "\n",
        "# View the grouped statistics\n",
        "print(one_fam_stats)\n"
      ],
      "metadata": {
        "colab": {
          "base_uri": "https://localhost:8080/"
        },
        "id": "-GAHEUgfuxW6",
        "outputId": "cad83856-dbe7-4574-b190-69eef454f753"
      },
      "execution_count": 72,
      "outputs": [
        {
          "output_type": "stream",
          "name": "stdout",
          "text": [
            "     Neighborhood Building Class Gross Sq Feet  Year Built  Sale Price  \\\n",
            "1        BATHGATE    one family          1,497      1899.0      570000   \n",
            "0        BATHGATE    one family          1,497      1899.0      215000   \n",
            "139    BAYCHESTER    one family          2,616      1930.0     1120000   \n",
            "147    BAYCHESTER    one family          1,286      1945.0      955000   \n",
            "120    BAYCHESTER    one family          2,264      1920.0      780000   \n",
            "...           ...            ...           ...         ...         ...   \n",
            "5846     WOODLAWN    one family          2,100      1925.0      630000   \n",
            "5853     WOODLAWN    one family          1,520      1920.0      556000   \n",
            "5848     WOODLAWN    one family          2,241      1920.0      505000   \n",
            "5855     WOODLAWN    one family          1,108      1910.0      480000   \n",
            "5847     WOODLAWN    one family          1,938      1940.0      320000   \n",
            "\n",
            "     Sale Date  \n",
            "1      08/2023  \n",
            "0      04/2023  \n",
            "139    06/2023  \n",
            "147    05/2023  \n",
            "120    03/2023  \n",
            "...        ...  \n",
            "5846   05/2023  \n",
            "5853   10/2023  \n",
            "5848   03/2023  \n",
            "5855   02/2023  \n",
            "5847   10/2023  \n",
            "\n",
            "[757 rows x 6 columns]\n",
            "                 Neighborhood          mean      min      max\n",
            "0                    BATHGATE  3.925000e+05   215000   570000\n",
            "1                  BAYCHESTER  5.112984e+05     5300  1120000\n",
            "2        BEDFORD PARK/NORWOOD  1.063950e+06   239000  4350000\n",
            "3                     BELMONT  1.850000e+06  1850000  1850000\n",
            "4                   BRONXDALE  4.632601e+05        1   715000\n",
            "5       CASTLE HILL/UNIONPORT  6.097500e+05   253000   745000\n",
            "6                 CITY ISLAND  5.687267e+05   130000  1200000\n",
            "7    CITY ISLAND-PELHAM STRIP  9.900000e+05   990000   990000\n",
            "8                COUNTRY CLUB  6.499397e+05      100  2150000\n",
            "9                CROTONA PARK  6.583333e+05   640000   690000\n",
            "10               EAST TREMONT  4.283296e+05   308000   575000\n",
            "11                  FIELDSTON  1.835536e+06   840000  3200000\n",
            "12                    FORDHAM  6.671286e+05   350000  1325000\n",
            "13  HIGHBRIDGE/MORRIS HEIGHTS  6.431250e+05    20000  1175000\n",
            "14   KINGSBRIDGE HTS/UNIV HTS  7.225001e+05        1  1100000\n",
            "15    KINGSBRIDGE/JEROME PARK  7.761875e+05   335000  2000000\n",
            "16          MELROSE/CONCOURSE  4.944375e+05   300000   675000\n",
            "17       MORRIS PARK/VAN NEST  6.261412e+05      100   830000\n",
            "18        MORRISANIA/LONGWOOD  4.507703e+05        1   600000\n",
            "19     MOTT HAVEN/PORT MORRIS  1.081664e+06   400000  4900000\n",
            "20      MOUNT HOPE/MOUNT EDEN  1.221500e+06   543000  1900000\n",
            "21                PARKCHESTER  6.000000e+05   520000   675000\n",
            "22             PELHAM GARDENS  6.744231e+05   490000   998000\n",
            "23       PELHAM PARKWAY NORTH  6.689062e+05   330000   954000\n",
            "24       PELHAM PARKWAY SOUTH  6.919045e+05   400000   988000\n",
            "25                  RIVERDALE  1.347011e+06   410000  3700000\n",
            "26   SCHUYLERVILLE/PELHAM BAY  5.908118e+05   260000   954000\n",
            "27                  SOUNDVIEW  5.159515e+05   172900   965000\n",
            "28                THROGS NECK  5.698989e+05    10000  1276000\n",
            "29                  WAKEFIELD  5.335095e+05   250000   999000\n",
            "30                WESTCHESTER  6.762000e+05   557000   875000\n",
            "31             WILLIAMSBRIDGE  5.221358e+05    50000  1271075\n",
            "32                   WOODLAWN  6.406923e+05   320000   930000\n"
          ]
        }
      ]
    },
    {
      "cell_type": "code",
      "source": [
        "# Filter for Two Family Homes\n",
        "two_family_df = bronx_props_2023[bronx_props_2023['Building Class'].str.contains('Two Family', case=False, na=False)]\n",
        "\n",
        "# View the filtered DataFrame\n",
        "print(two_family_df)\n",
        "\n",
        "# Stats for Two Family (building class)\n",
        "\n",
        "two_fam_stats = two_family_df.groupby('Neighborhood')['Sale Price'].agg(['mean', 'min', 'max']).reset_index()\n",
        "\n",
        "# View the grouped statistics\n",
        "print(two_fam_stats)"
      ],
      "metadata": {
        "colab": {
          "base_uri": "https://localhost:8080/"
        },
        "id": "ta5EQ2VyWAOO",
        "outputId": "aea380c0-2161-4a2a-baef-b71d4f9c7116"
      },
      "execution_count": 73,
      "outputs": [
        {
          "output_type": "stream",
          "name": "stdout",
          "text": [
            "     Neighborhood Building Class Gross Sq Feet  Year Built  Sale Price  \\\n",
            "8        BATHGATE    two family          2,394      1994.0      820000   \n",
            "9        BATHGATE    two family          2,394      1995.0      815000   \n",
            "6        BATHGATE    two family          2,400      1993.0      763000   \n",
            "7        BATHGATE    two family          2,400      1993.0      750000   \n",
            "10       BATHGATE    two family          2,340      1998.0      750000   \n",
            "...           ...            ...           ...         ...         ...   \n",
            "5857     WOODLAWN    two family          1,640      1925.0      775000   \n",
            "5859     WOODLAWN    two family          2,415      1915.0      728000   \n",
            "5862     WOODLAWN    two family          2,112      1925.0      670000   \n",
            "5870     WOODLAWN    two family          2,601      1970.0      615000   \n",
            "5868     WOODLAWN    two family          2,092      1915.0      574000   \n",
            "\n",
            "     Sale Date  \n",
            "8      11/2023  \n",
            "9      06/2023  \n",
            "6      09/2023  \n",
            "7      05/2023  \n",
            "10     07/2023  \n",
            "...        ...  \n",
            "5857   06/2023  \n",
            "5859   01/2023  \n",
            "5862   04/2023  \n",
            "5870   12/2023  \n",
            "5868   05/2023  \n",
            "\n",
            "[918 rows x 6 columns]\n",
            "                 Neighborhood          mean     min      max\n",
            "0                    BATHGATE  6.052000e+05   57000   820000\n",
            "1                  BAYCHESTER  7.084822e+05   75000  1323725\n",
            "2        BEDFORD PARK/NORWOOD  7.370991e+05    7000  4350000\n",
            "3                     BELMONT  8.356667e+05  378000  1850000\n",
            "4                   BRONXDALE  6.578559e+05  106497  1275000\n",
            "5       CASTLE HILL/UNIONPORT  7.101989e+05       1   970000\n",
            "6                 CITY ISLAND  6.520000e+05   60000   919000\n",
            "7                COUNTRY CLUB  8.404240e+05  280000  1100000\n",
            "8                CROTONA PARK  6.573000e+05     100   950000\n",
            "9                EAST TREMONT  6.816111e+05   10000  2525000\n",
            "10                  FIELDSTON  8.500000e+05  850000   850000\n",
            "11                    FORDHAM  5.936111e+05  375000   850000\n",
            "12  HIGHBRIDGE/MORRIS HEIGHTS  7.648971e+05   25000  1150000\n",
            "13                HUNTS POINT  6.637393e+05   76175  1350000\n",
            "14   KINGSBRIDGE HTS/UNIV HTS  6.999999e+05   65000   999999\n",
            "15    KINGSBRIDGE/JEROME PARK  8.424002e+05  262500  1210000\n",
            "16          MELROSE/CONCOURSE  7.010562e+05   61111  1200000\n",
            "17       MORRIS PARK/VAN NEST  7.859808e+05  220000  1260000\n",
            "18        MORRISANIA/LONGWOOD  6.842134e+05    6000  1500000\n",
            "19     MOTT HAVEN/PORT MORRIS  8.450833e+05   55000  1237500\n",
            "20      MOUNT HOPE/MOUNT EDEN  9.578749e+05  489000  2154750\n",
            "21                PARKCHESTER  7.277501e+05       1  1110000\n",
            "22             PELHAM GARDENS  7.740999e+05  369000  1130000\n",
            "23       PELHAM PARKWAY NORTH  7.225224e+05     177  1100000\n",
            "24       PELHAM PARKWAY SOUTH  7.233767e+05  330000   999999\n",
            "25                  RIVERDALE  1.069314e+06  850000  1550000\n",
            "26   SCHUYLERVILLE/PELHAM BAY  7.903813e+05       1  1200000\n",
            "27                  SOUNDVIEW  6.830141e+05     100  1070000\n",
            "28                THROGS NECK  6.963391e+05       1  1350000\n",
            "29                  WAKEFIELD  6.586753e+05  342800  1043706\n",
            "30                WESTCHESTER  8.307667e+05  202800  1600000\n",
            "31             WILLIAMSBRIDGE  6.433061e+05       1  2337500\n",
            "32                   WOODLAWN  7.900000e+05  574000   940000\n"
          ]
        }
      ]
    },
    {
      "cell_type": "code",
      "source": [
        "'''\n",
        "Analysis Based on Year Built - Using One Family Homes Data\n",
        "\n",
        "Using one family homes data frame. We will determine if the year the home was built play a role in the home sales prices.\n",
        "\n",
        "Does the year the house was built play a role in Housing Sale Prices ?\n",
        "'''\n",
        "\n",
        "import matplotlib.pyplot as plt\n",
        "\n",
        "# Group by Year built and calculate total Sale Price\n",
        " # Group your dataset by two columns and then sort the aggregated results within the groups.\n",
        "\n",
        "price_by_year = one_family_df.groupby('Year Built')['Sale Price'].sum().reset_index()\n",
        "price_by_year.rename(columns={'Sale Price': 'total_price1'}, inplace=True)\n",
        "\n",
        "\n",
        "# Plotting\n",
        "plt.figure(figsize=(10, 6))\n",
        "plt.plot(price_by_year['Year Built'], price_by_year['total_price1'] / 1000, color='blue', marker='o', linestyle='-')\n",
        "plt.xlabel('Year Built')\n",
        "plt.ylabel('Sales Price (in thousands)')\n",
        "plt.title('Sales Prices Over Time')\n",
        "plt.xticks(rotation=45)\n",
        "plt.grid()\n",
        "plt.tight_layout()\n",
        "plt.show()\n"
      ],
      "metadata": {
        "colab": {
          "base_uri": "https://localhost:8080/",
          "height": 607
        },
        "id": "jYBwiIh0SQZi",
        "outputId": "4411064c-9606-4acc-df84-6227c14df9a8"
      },
      "execution_count": 74,
      "outputs": [
        {
          "output_type": "display_data",
          "data": {
            "text/plain": [
              "<Figure size 1000x600 with 1 Axes>"
            ],
            "image/png": "[encoded data removed]"
          },
          "metadata": {}
        }
      ]
    },
    {
      "cell_type": "code",
      "source": [
        "\n",
        "# Group multiple columns and make new columns from results\n",
        "price_by_year_stats = one_family_df.groupby('Year Built')['Sale Price'].agg(\n",
        "    total_price1='sum',\n",
        "    count_sales='count',\n",
        "    mean_price='mean',\n",
        "    median_price='median',\n",
        "    min_price='min',\n",
        "    max_price='max',\n",
        "    std_dev_price='std'\n",
        ").reset_index()\n",
        "\n",
        "# Sort the results by Year Built\n",
        "price_by_year_stats.sort_values(by='Year Built', inplace=True)\n",
        "\n",
        "# Print the summary DataFrame\n",
        "print(price_by_year_stats)\n"
      ],
      "metadata": {
        "colab": {
          "base_uri": "https://localhost:8080/"
        },
        "id": "NJO8CAXTTsME",
        "outputId": "875f006e-ef45-4d4c-9ad4-ab3fcfc20f35"
      },
      "execution_count": 75,
      "outputs": [
        {
          "output_type": "stream",
          "name": "stdout",
          "text": [
            "    Year Built  total_price1  count_sales    mean_price  median_price  \\\n",
            "0       1899.0      11800371           16  7.375232e+05      535000.0   \n",
            "1       1901.0      24612900           29  8.487207e+05      700000.0   \n",
            "2       1905.0       2300000            2  1.150000e+06     1150000.0   \n",
            "3       1910.0      22082900           34  6.494971e+05      551500.0   \n",
            "4       1915.0      11651000           17  6.853529e+05      625000.0   \n",
            "5       1920.0      55859449           92  6.071679e+05      601500.0   \n",
            "6       1921.0        520000            1  5.200000e+05      520000.0   \n",
            "7       1925.0      50404868           83  6.072876e+05      575000.0   \n",
            "8       1926.0        765000            1  7.650000e+05      765000.0   \n",
            "9       1928.0        675000            1  6.750000e+05      675000.0   \n",
            "10      1930.0      48178400           67  7.190806e+05      618000.0   \n",
            "11      1931.0       9854000            7  1.407714e+06      665000.0   \n",
            "12      1932.0       1996000            4  4.990000e+05      498500.0   \n",
            "13      1934.0        442000            1  4.420000e+05      442000.0   \n",
            "14      1935.0      18532500           31  5.978226e+05      600000.0   \n",
            "15      1938.0        855000            1  8.550000e+05      855000.0   \n",
            "16      1940.0      56795100           85  6.681776e+05      605000.0   \n",
            "17      1945.0      15642300           26  6.016269e+05      634400.0   \n",
            "18      1948.0       1335000            2  6.675000e+05      667500.0   \n",
            "19      1950.0      45053681           81  5.562183e+05      570000.0   \n",
            "20      1955.0      27191400           48  5.664875e+05      589000.0   \n",
            "21      1956.0       1312000            2  6.560000e+05      656000.0   \n",
            "22      1957.0        550000            1  5.500000e+05      550000.0   \n",
            "23      1959.0        540000            1  5.400000e+05      540000.0   \n",
            "24      1960.0      33849194           51  6.637097e+05      614000.0   \n",
            "25      1961.0        635000            1  6.350000e+05      635000.0   \n",
            "26      1965.0       9463000           15  6.308667e+05      640000.0   \n",
            "27      1967.0        735000            1  7.350000e+05      735000.0   \n",
            "28      1970.0       2486000            4  6.215000e+05      602500.0   \n",
            "29      1971.0        479008            1  4.790080e+05      479008.0   \n",
            "30      1975.0       2469000            2  1.234500e+06     1234500.0   \n",
            "31      1980.0       2325000            1  2.325000e+06     2325000.0   \n",
            "32      1985.0       2995005            5  5.990010e+05      575000.0   \n",
            "33      1986.0       3460000            4  8.650000e+05      807500.0   \n",
            "34      1987.0       5890000            9  6.544444e+05      630000.0   \n",
            "35      1988.0       1010001            3  3.366670e+05      490000.0   \n",
            "36      1989.0        847555            2  4.237775e+05      423777.5   \n",
            "37      1990.0       1397499            3  4.658330e+05      499999.0   \n",
            "38      1991.0       1535000            2  7.675000e+05      767500.0   \n",
            "39      1992.0       1985000            4  4.962500e+05      525000.0   \n",
            "40      1993.0        520001            2  2.600005e+05      260000.5   \n",
            "41      1994.0       2700000            1  2.700000e+06     2700000.0   \n",
            "42      1995.0       1276000            1  1.276000e+06     1276000.0   \n",
            "43      1997.0       2150000            1  2.150000e+06     2150000.0   \n",
            "44      1998.0        980000            2  4.900000e+05      490000.0   \n",
            "45      1999.0       1265800            2  6.329000e+05      632900.0   \n",
            "46      2000.0       1275000            2  6.375000e+05      637500.0   \n",
            "47      2002.0        740000            1  7.400000e+05      740000.0   \n",
            "48      2005.0       1750000            2  8.750000e+05      875000.0   \n",
            "49      2008.0       1710000            1  1.710000e+06     1710000.0   \n",
            "50      2016.0       1527375            1  1.527375e+06     1527375.0   \n",
            "\n",
            "    min_price  max_price  std_dev_price  \n",
            "0      215000    2500000   6.227981e+05  \n",
            "1       20000    3200000   5.952389e+05  \n",
            "2      400000    1900000   1.060660e+06  \n",
            "3      125000    4350000   6.913379e+05  \n",
            "4      239000    1637500   2.964990e+05  \n",
            "5      130000    2500000   3.065261e+05  \n",
            "6      520000     520000            NaN  \n",
            "7         100    2350000   2.990514e+05  \n",
            "8      765000     765000            NaN  \n",
            "9      675000     675000            NaN  \n",
            "10     300000    2750000   4.429482e+05  \n",
            "11     560000    4900000   1.607128e+06  \n",
            "12     320000     679000   1.549258e+05  \n",
            "13     442000     442000            NaN  \n",
            "14     355000     999000   1.625858e+05  \n",
            "15     855000     855000            NaN  \n",
            "16        100    3700000   4.776857e+05  \n",
            "17      50000     955000   1.747207e+05  \n",
            "18     620000     715000   6.717514e+04  \n",
            "19          1    1199999   2.266107e+05  \n",
            "20     105000     850000   1.300148e+05  \n",
            "21     565000     747000   1.286934e+05  \n",
            "22     550000     550000            NaN  \n",
            "23     540000     540000            NaN  \n",
            "24     200000    2100000   3.216437e+05  \n",
            "25     635000     635000            NaN  \n",
            "26     330000     950000   1.427730e+05  \n",
            "27     735000     735000            NaN  \n",
            "28     520000     761000   1.009901e+05  \n",
            "29     479008     479008            NaN  \n",
            "30     594000    1875000   9.058038e+05  \n",
            "31    2325000    2325000            NaN  \n",
            "32     450000     850005   1.593914e+05  \n",
            "33     645000    1200000   2.548529e+05  \n",
            "34     440000     875000   1.251720e+05  \n",
            "35          1     520000   2.919469e+05  \n",
            "36     367555     480000   7.951062e+04  \n",
            "37     367500     530000   8.646993e+04  \n",
            "38     480000    1055000   4.065864e+05  \n",
            "39     375000     560000   8.498774e+04  \n",
            "40          1     520000   3.676948e+05  \n",
            "41    2700000    2700000            NaN  \n",
            "42    1276000    1276000            NaN  \n",
            "43    2150000    2150000            NaN  \n",
            "44     400000     580000   1.272792e+05  \n",
            "45     570000     695800   8.895403e+04  \n",
            "46     620000     655000   2.474874e+04  \n",
            "47     740000     740000            NaN  \n",
            "48     650000    1100000   3.181981e+05  \n",
            "49    1710000    1710000            NaN  \n",
            "50    1527375    1527375            NaN  \n"
          ]
        }
      ]
    },
    {
      "cell_type": "code",
      "source": [
        "#  Conclusion\n",
        "\n",
        "'''\n",
        "The Bronx real estate market shows significant variability in property prices across different neighborhoods.\n",
        "High-end areas like Belmont and Bedford Park/Norwood feature mean prices of around $1.85 million and $1.06 million, respectively,\n",
        " while more affordable neighborhoods such as Bathgate and Baychester have mean prices closer to $392,500 and $511,298.\n",
        " The maximum prices for properties in these neighborhoods highlight potential for investment returns, with values reaching up to\n",
        "  $4.35 million in Belmont. This wide range indicates diverse options for buyers, from luxury investments to more budget-friendly purchases.\n",
        "\n",
        "In the two-family home market, mean prices range from approximately $605,200 in Bathgate to over $1 million in Riverdale,\n",
        "suggesting a consistent valuation for these properties across various neighborhoods. The age of homes also influences pricing,\n",
        " with properties built in the early 1900s typically commanding higher prices. This trend points to potential investment opportunities in less expensive\n",
        " areas like East Tremont and Soundview, which may see increasing demand over time.\n",
        " Overall, the Bronx offers a dynamic real estate landscape with both challenges and opportunities for buyers and investors.\n",
        "\n",
        " '''"
      ],
      "metadata": {
        "id": "PaCkK56CWUMW"
      },
      "execution_count": 75,
      "outputs": []
    }
  ]
}